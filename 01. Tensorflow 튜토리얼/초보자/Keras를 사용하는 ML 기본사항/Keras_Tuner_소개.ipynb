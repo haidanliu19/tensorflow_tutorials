{
  "nbformat": 4,
  "nbformat_minor": 0,
  "metadata": {
    "colab": {
      "name": "Keras Tuner 소개.ipynb",
      "provenance": [],
      "collapsed_sections": []
    },
    "kernelspec": {
      "name": "python3",
      "display_name": "Python 3"
    },
    "language_info": {
      "name": "python"
    }
  },
  "cells": [
    {
      "cell_type": "code",
      "execution_count": 2,
      "metadata": {
        "id": "ak4CB19IrJ9r"
      },
      "outputs": [],
      "source": [
        "import tensorflow as tf\n",
        "from tensorflow import keras\n",
        "\n",
        "import IPython"
      ]
    },
    {
      "cell_type": "code",
      "source": [
        "!pip install -q -U keras-tuner\n",
        "import kerastuner as kt"
      ],
      "metadata": {
        "colab": {
          "base_uri": "https://localhost:8080/"
        },
        "id": "vP8BTnjZrPiD",
        "outputId": "5beeb1bb-36bc-4a75-a5d9-a43bd196aa25"
      },
      "execution_count": 4,
      "outputs": [
        {
          "output_type": "stream",
          "name": "stdout",
          "text": [
            "\u001b[?25l\r\u001b[K     |██▌                             | 10 kB 26.8 MB/s eta 0:00:01\r\u001b[K     |█████                           | 20 kB 33.3 MB/s eta 0:00:01\r\u001b[K     |███████▍                        | 30 kB 39.1 MB/s eta 0:00:01\r\u001b[K     |█████████▉                      | 40 kB 21.6 MB/s eta 0:00:01\r\u001b[K     |████████████▎                   | 51 kB 16.1 MB/s eta 0:00:01\r\u001b[K     |██████████████▊                 | 61 kB 18.3 MB/s eta 0:00:01\r\u001b[K     |█████████████████▏              | 71 kB 15.9 MB/s eta 0:00:01\r\u001b[K     |███████████████████▋            | 81 kB 14.2 MB/s eta 0:00:01\r\u001b[K     |██████████████████████          | 92 kB 15.5 MB/s eta 0:00:01\r\u001b[K     |████████████████████████▌       | 102 kB 15.1 MB/s eta 0:00:01\r\u001b[K     |███████████████████████████     | 112 kB 15.1 MB/s eta 0:00:01\r\u001b[K     |█████████████████████████████▍  | 122 kB 15.1 MB/s eta 0:00:01\r\u001b[K     |███████████████████████████████▉| 133 kB 15.1 MB/s eta 0:00:01\r\u001b[K     |████████████████████████████████| 133 kB 15.1 MB/s \n",
            "\u001b[?25h"
          ]
        },
        {
          "output_type": "stream",
          "name": "stderr",
          "text": [
            "/usr/local/lib/python3.7/dist-packages/ipykernel_launcher.py:2: DeprecationWarning: `import kerastuner` is deprecated, please use `import keras_tuner`.\n",
            "  \n"
          ]
        }
      ]
    },
    {
      "cell_type": "code",
      "source": [
        "(img_train, label_train), (img_test, label_test) = keras.datasets.fashion_mnist.load_data()"
      ],
      "metadata": {
        "colab": {
          "base_uri": "https://localhost:8080/"
        },
        "id": "qvtv1RzD0ErM",
        "outputId": "34b80159-bc5f-4aef-f09e-9ba2114b58c3"
      },
      "execution_count": 5,
      "outputs": [
        {
          "output_type": "stream",
          "name": "stdout",
          "text": [
            "Downloading data from https://storage.googleapis.com/tensorflow/tf-keras-datasets/train-labels-idx1-ubyte.gz\n",
            "32768/29515 [=================================] - 0s 0us/step\n",
            "40960/29515 [=========================================] - 0s 0us/step\n",
            "Downloading data from https://storage.googleapis.com/tensorflow/tf-keras-datasets/train-images-idx3-ubyte.gz\n",
            "26427392/26421880 [==============================] - 0s 0us/step\n",
            "26435584/26421880 [==============================] - 0s 0us/step\n",
            "Downloading data from https://storage.googleapis.com/tensorflow/tf-keras-datasets/t10k-labels-idx1-ubyte.gz\n",
            "16384/5148 [===============================================================================================] - 0s 0us/step\n",
            "Downloading data from https://storage.googleapis.com/tensorflow/tf-keras-datasets/t10k-images-idx3-ubyte.gz\n",
            "4423680/4422102 [==============================] - 0s 0us/step\n",
            "4431872/4422102 [==============================] - 0s 0us/step\n"
          ]
        }
      ]
    },
    {
      "cell_type": "code",
      "source": [
        "img_train = img_train.astype('float32') / 255.0\n",
        "img_test = img_test.astype('float32') / 255.0"
      ],
      "metadata": {
        "id": "CZxm3wJs0Isr"
      },
      "execution_count": 6,
      "outputs": []
    },
    {
      "cell_type": "code",
      "source": [
        "def model_builder(hp):\n",
        "    model = keras.Sequential()\n",
        "    model.add(keras.layers.Flatten(input_shape = (28, 28)))\n",
        "\n",
        "    hp_units = hp.Int('units', min_value = 32, max_value = 512, step = 32)\n",
        "    model.add(keras.layers.Dense(units = hp_units, activation = 'relu'))\n",
        "    model.add(keras.layers.Dense(10))\n",
        "\n",
        "    hp_learning_rate = hp.Choice('learning_rate', values = [1e-2, 1e-3, 1e-4])\n",
        "\n",
        "    model.compile(optimizer = keras.optimizers.Adam(learning_rate = hp_learning_rate), \n",
        "                  loss = keras.losses.SparseCategoricalCrossentropy(from_logits = True),\n",
        "                  metrics = ['accuracy'])\n",
        "    \n",
        "    return model"
      ],
      "metadata": {
        "id": "56n2RHdg0K6T"
      },
      "execution_count": 11,
      "outputs": []
    },
    {
      "cell_type": "code",
      "source": [
        "tuner = kt.Hyperband(model_builder, \n",
        "                     objective ='val_accuracy',\n",
        "                     max_epochs = 10,\n",
        "                     factor = 3,\n",
        "                     directory = 'my_dir',\n",
        "                     project_name  = 'intro_to_kt')"
      ],
      "metadata": {
        "id": "3T3h5jR_0_k0"
      },
      "execution_count": 12,
      "outputs": []
    },
    {
      "cell_type": "code",
      "source": [
        "class ClearTrainingOutput(tf.keras.callbacks.Callback):\n",
        "    def on_train_end(*args, **kwargs):\n",
        "        IPython.display.clear_output(wait = True)"
      ],
      "metadata": {
        "id": "zxSW05UB1Q49"
      },
      "execution_count": 13,
      "outputs": []
    },
    {
      "cell_type": "code",
      "source": [
        "tuner.search(img_train, label_train, epochs = 10, validation_data = (img_test, label_test) , callbacks = [ClearTrainingOutput()])"
      ],
      "metadata": {
        "colab": {
          "base_uri": "https://localhost:8080/"
        },
        "id": "T1igOoFw2-l8",
        "outputId": "9124ef06-c129-4cb6-ecbd-1d1cfa9ff4fe"
      },
      "execution_count": 14,
      "outputs": [
        {
          "output_type": "stream",
          "name": "stdout",
          "text": [
            "Trial 30 Complete [00h 01m 05s]\n",
            "val_accuracy: 0.8495000004768372\n",
            "\n",
            "Best val_accuracy So Far: 0.8859000205993652\n",
            "Total elapsed time: 00h 18m 29s\n",
            "INFO:tensorflow:Oracle triggered exit\n"
          ]
        }
      ]
    },
    {
      "cell_type": "code",
      "source": [
        "best_hps = tuner.get_best_hyperparameters(num_trials = 1)[0]"
      ],
      "metadata": {
        "id": "jUlJvFS73SDl"
      },
      "execution_count": 15,
      "outputs": []
    },
    {
      "cell_type": "code",
      "source": [
        "print(f\"\"\"\n",
        "The hyperparameter search is complete. The optimal number of units in the first densely-connected\n",
        "layer is {best_hps.get('units')} and the optimal learning rate for the optimizer\n",
        "is {best_hps.get('learning_rate')}.\n",
        "\"\"\")"
      ],
      "metadata": {
        "colab": {
          "base_uri": "https://localhost:8080/"
        },
        "id": "tssDKtlN3YoC",
        "outputId": "70b50cee-936b-481c-ea32-a7f188656d61"
      },
      "execution_count": 16,
      "outputs": [
        {
          "output_type": "stream",
          "name": "stdout",
          "text": [
            "\n",
            "The hyperparameter search is complete. The optimal number of units in the first densely-connected\n",
            "layer is 256 and the optimal learning rate for the optimizer\n",
            "is 0.001.\n",
            "\n"
          ]
        }
      ]
    },
    {
      "cell_type": "code",
      "source": [
        "model = tuner.hypermodel.build(best_hps)\n",
        "model.fit(img_train, label_train, epochs = 10, validation_data = (img_test, label_test))"
      ],
      "metadata": {
        "colab": {
          "base_uri": "https://localhost:8080/"
        },
        "id": "-XlZFrUo322m",
        "outputId": "d39cda56-f9ec-455b-be00-f164bb5f55ca"
      },
      "execution_count": 17,
      "outputs": [
        {
          "output_type": "stream",
          "name": "stdout",
          "text": [
            "Epoch 1/10\n",
            "1875/1875 [==============================] - 7s 3ms/step - loss: 0.4815 - accuracy: 0.8293 - val_loss: 0.4375 - val_accuracy: 0.8405\n",
            "Epoch 2/10\n",
            "1875/1875 [==============================] - 6s 3ms/step - loss: 0.3634 - accuracy: 0.8683 - val_loss: 0.3778 - val_accuracy: 0.8624\n",
            "Epoch 3/10\n",
            "1875/1875 [==============================] - 6s 3ms/step - loss: 0.3260 - accuracy: 0.8796 - val_loss: 0.3765 - val_accuracy: 0.8641\n",
            "Epoch 4/10\n",
            "1875/1875 [==============================] - 6s 3ms/step - loss: 0.3012 - accuracy: 0.8893 - val_loss: 0.3736 - val_accuracy: 0.8636\n",
            "Epoch 5/10\n",
            "1875/1875 [==============================] - 6s 3ms/step - loss: 0.2849 - accuracy: 0.8945 - val_loss: 0.3524 - val_accuracy: 0.8723\n",
            "Epoch 6/10\n",
            "1875/1875 [==============================] - 6s 3ms/step - loss: 0.2703 - accuracy: 0.8994 - val_loss: 0.3295 - val_accuracy: 0.8824\n",
            "Epoch 7/10\n",
            "1875/1875 [==============================] - 6s 3ms/step - loss: 0.2565 - accuracy: 0.9032 - val_loss: 0.3413 - val_accuracy: 0.8804\n",
            "Epoch 8/10\n",
            "1875/1875 [==============================] - 6s 3ms/step - loss: 0.2463 - accuracy: 0.9074 - val_loss: 0.3259 - val_accuracy: 0.8865\n",
            "Epoch 9/10\n",
            "1875/1875 [==============================] - 6s 3ms/step - loss: 0.2373 - accuracy: 0.9115 - val_loss: 0.3437 - val_accuracy: 0.8798\n",
            "Epoch 10/10\n",
            "1875/1875 [==============================] - 6s 3ms/step - loss: 0.2269 - accuracy: 0.9148 - val_loss: 0.3379 - val_accuracy: 0.8851\n"
          ]
        },
        {
          "output_type": "execute_result",
          "data": {
            "text/plain": [
              "<keras.callbacks.History at 0x7f82ffbbe250>"
            ]
          },
          "metadata": {},
          "execution_count": 17
        }
      ]
    },
    {
      "cell_type": "code",
      "source": [
        ""
      ],
      "metadata": {
        "id": "rzAQNcfk4FNN"
      },
      "execution_count": null,
      "outputs": []
    }
  ]
}