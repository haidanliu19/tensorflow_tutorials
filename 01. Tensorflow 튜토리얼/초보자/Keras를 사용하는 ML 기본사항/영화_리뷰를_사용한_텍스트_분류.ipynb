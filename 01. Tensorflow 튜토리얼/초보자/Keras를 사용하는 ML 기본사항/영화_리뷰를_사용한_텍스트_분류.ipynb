{
  "nbformat": 4,
  "nbformat_minor": 0,
  "metadata": {
    "colab": {
      "name": "영화 리뷰를 사용한 텍스트 분류.ipynb",
      "provenance": [],
      "collapsed_sections": []
    },
    "kernelspec": {
      "name": "python3",
      "display_name": "Python 3"
    },
    "language_info": {
      "name": "python"
    }
  },
  "cells": [
    {
      "cell_type": "markdown",
      "source": [
        "출처 : Tensorflow 튜토리얼"
      ],
      "metadata": {
        "id": "kWzFeEsJE77q"
      }
    },
    {
      "cell_type": "code",
      "source": [
        "import tensorflow as tf\n",
        "from tensorflow import keras\n",
        "\n",
        "import numpy as np\n",
        "\n",
        "print(tf.__version__)"
      ],
      "metadata": {
        "id": "k_9SRdGPb8N9",
        "colab": {
          "base_uri": "https://localhost:8080/"
        },
        "outputId": "bd344d6c-e457-4b4d-b9de-857a68f8b4f3"
      },
      "execution_count": 1,
      "outputs": [
        {
          "output_type": "stream",
          "name": "stdout",
          "text": [
            "2.8.0\n"
          ]
        }
      ]
    },
    {
      "cell_type": "code",
      "source": [
        "imdb = keras.datasets.imdb\n",
        "\n",
        "(train_data, train_labels), (test_data, test_labels) = imdb.load_data(num_words = 10000)"
      ],
      "metadata": {
        "colab": {
          "base_uri": "https://localhost:8080/"
        },
        "id": "BGVhjPiKTm6N",
        "outputId": "c5b99256-8f57-45dc-f2f3-60b89aebeca1"
      },
      "execution_count": 2,
      "outputs": [
        {
          "output_type": "stream",
          "name": "stdout",
          "text": [
            "Downloading data from https://storage.googleapis.com/tensorflow/tf-keras-datasets/imdb.npz\n",
            "17465344/17464789 [==============================] - 0s 0us/step\n",
            "17473536/17464789 [==============================] - 0s 0us/step\n"
          ]
        }
      ]
    },
    {
      "cell_type": "code",
      "source": [
        "print(\"훈련 샘플: {}, 레이블: {}\".format(len(train_data), len(train_labels)))"
      ],
      "metadata": {
        "colab": {
          "base_uri": "https://localhost:8080/"
        },
        "id": "iu-mA-PdTxXm",
        "outputId": "01ac5559-ac72-4178-821c-744f7ebb6dca"
      },
      "execution_count": 3,
      "outputs": [
        {
          "output_type": "stream",
          "name": "stdout",
          "text": [
            "훈련 샘플: 25000, 레이블: 25000\n"
          ]
        }
      ]
    },
    {
      "cell_type": "code",
      "source": [
        "print(train_data[0])"
      ],
      "metadata": {
        "colab": {
          "base_uri": "https://localhost:8080/"
        },
        "id": "NlJQE7LTT3lW",
        "outputId": "065f11ab-a977-47d0-d8b1-8f017c60442d"
      },
      "execution_count": 4,
      "outputs": [
        {
          "output_type": "stream",
          "name": "stdout",
          "text": [
            "[1, 14, 22, 16, 43, 530, 973, 1622, 1385, 65, 458, 4468, 66, 3941, 4, 173, 36, 256, 5, 25, 100, 43, 838, 112, 50, 670, 2, 9, 35, 480, 284, 5, 150, 4, 172, 112, 167, 2, 336, 385, 39, 4, 172, 4536, 1111, 17, 546, 38, 13, 447, 4, 192, 50, 16, 6, 147, 2025, 19, 14, 22, 4, 1920, 4613, 469, 4, 22, 71, 87, 12, 16, 43, 530, 38, 76, 15, 13, 1247, 4, 22, 17, 515, 17, 12, 16, 626, 18, 2, 5, 62, 386, 12, 8, 316, 8, 106, 5, 4, 2223, 5244, 16, 480, 66, 3785, 33, 4, 130, 12, 16, 38, 619, 5, 25, 124, 51, 36, 135, 48, 25, 1415, 33, 6, 22, 12, 215, 28, 77, 52, 5, 14, 407, 16, 82, 2, 8, 4, 107, 117, 5952, 15, 256, 4, 2, 7, 3766, 5, 723, 36, 71, 43, 530, 476, 26, 400, 317, 46, 7, 4, 2, 1029, 13, 104, 88, 4, 381, 15, 297, 98, 32, 2071, 56, 26, 141, 6, 194, 7486, 18, 4, 226, 22, 21, 134, 476, 26, 480, 5, 144, 30, 5535, 18, 51, 36, 28, 224, 92, 25, 104, 4, 226, 65, 16, 38, 1334, 88, 12, 16, 283, 5, 16, 4472, 113, 103, 32, 15, 16, 5345, 19, 178, 32]\n"
          ]
        }
      ]
    },
    {
      "cell_type": "code",
      "source": [
        "len(train_data[0]), len(train_data[1])"
      ],
      "metadata": {
        "colab": {
          "base_uri": "https://localhost:8080/"
        },
        "id": "7tGxCt9PT4--",
        "outputId": "8cc6b803-47a3-4147-a6f0-8ace9bc55e30"
      },
      "execution_count": 5,
      "outputs": [
        {
          "output_type": "execute_result",
          "data": {
            "text/plain": [
              "(218, 189)"
            ]
          },
          "metadata": {},
          "execution_count": 5
        }
      ]
    },
    {
      "cell_type": "code",
      "source": [
        "# 단어와 정수  인덱스를 매핑한 딕셔너리\n",
        "word_index = imdb.get_word_index()\n",
        "\n",
        "# 처음 몇 개 인덱스는 사전에 정의되어 있습니다. \n",
        "word_index = {k : (v + 3) for k, v in word_index.items()}\n",
        "word_index[\"<PAD>\"] = 0\n",
        "word_index[\"<START>\"] = 1\n",
        "word_index[\"<UNK>\"] = 2 # unknown\n",
        "word_index[\"UNUSED\"] = 3\n",
        "\n",
        "reverse_word_index = dict([(value, key) for (key, value) in word_index.items()])\n",
        "\n",
        "def decode_review(text):\n",
        "    return ' '.join([reverse_word_index.get(i, '?') for i in text])"
      ],
      "metadata": {
        "colab": {
          "base_uri": "https://localhost:8080/"
        },
        "id": "bUbFL1m4T8VW",
        "outputId": "c5626c41-b05e-4cf3-c537-1a207750a39c"
      },
      "execution_count": 6,
      "outputs": [
        {
          "output_type": "stream",
          "name": "stdout",
          "text": [
            "Downloading data from https://storage.googleapis.com/tensorflow/tf-keras-datasets/imdb_word_index.json\n",
            "1646592/1641221 [==============================] - 0s 0us/step\n",
            "1654784/1641221 [==============================] - 0s 0us/step\n"
          ]
        }
      ]
    },
    {
      "cell_type": "code",
      "source": [
        "decode_review(train_data[0])"
      ],
      "metadata": {
        "colab": {
          "base_uri": "https://localhost:8080/",
          "height": 146
        },
        "id": "5wTWlRC3UnAa",
        "outputId": "74ea51c7-0840-4a0c-a735-25ef1b71dd39"
      },
      "execution_count": 7,
      "outputs": [
        {
          "output_type": "execute_result",
          "data": {
            "text/plain": [
              "\"<START> this film was just brilliant casting location scenery story direction everyone's really suited the part they played and you could just imagine being there robert <UNK> is an amazing actor and now the same being director <UNK> father came from the same scottish island as myself so i loved the fact there was a real connection with this film the witty remarks throughout the film were great it was just brilliant so much that i bought the film as soon as it was released for <UNK> and would recommend it to everyone to watch and the fly fishing was amazing really cried at the end it was so sad and you know what they say if you cry at a film it must have been good and this definitely was also <UNK> to the two little boy's that played the <UNK> of norman and paul they were just brilliant children are often left out of the <UNK> list i think because the stars that play them all grown up are such a big profile for the whole film but these children are amazing and should be praised for what they have done don't you think the whole story was so lovely because it was true and was someone's life after all that was shared with us all\""
            ],
            "application/vnd.google.colaboratory.intrinsic+json": {
              "type": "string"
            }
          },
          "metadata": {},
          "execution_count": 7
        }
      ]
    },
    {
      "cell_type": "markdown",
      "source": [
        "데이터 준비"
      ],
      "metadata": {
        "id": "rR_MwnMrU0tw"
      }
    },
    {
      "cell_type": "code",
      "source": [
        "train_data = keras.preprocessing.sequence.pad_sequences(train_data, \n",
        "                                                        value = word_index[\"<PAD>\"],\n",
        "                                                        padding = 'post',\n",
        "                                                        maxlen= 256)\n",
        "\n",
        "test_data = keras.preprocessing.sequence.pad_sequences(test_data, \n",
        "                                                        value = word_index[\"<PAD>\"],\n",
        "                                                        padding = 'post',\n",
        "                                                        maxlen= 256)"
      ],
      "metadata": {
        "id": "nWPmlGysUsFt"
      },
      "execution_count": 8,
      "outputs": []
    },
    {
      "cell_type": "code",
      "source": [
        "len(train_data[0]), len(train_data[1])"
      ],
      "metadata": {
        "colab": {
          "base_uri": "https://localhost:8080/"
        },
        "id": "_rYqeIs8VD4O",
        "outputId": "c58873ae-3f1f-43f8-d4ef-38c68f881bd1"
      },
      "execution_count": 9,
      "outputs": [
        {
          "output_type": "execute_result",
          "data": {
            "text/plain": [
              "(256, 256)"
            ]
          },
          "metadata": {},
          "execution_count": 9
        }
      ]
    },
    {
      "cell_type": "code",
      "source": [
        "print(train_data[0])"
      ],
      "metadata": {
        "colab": {
          "base_uri": "https://localhost:8080/"
        },
        "id": "dlon5eVrVKQM",
        "outputId": "3b512732-4e1c-4c5c-f777-48a57f7146b7"
      },
      "execution_count": 10,
      "outputs": [
        {
          "output_type": "stream",
          "name": "stdout",
          "text": [
            "[   1   14   22   16   43  530  973 1622 1385   65  458 4468   66 3941\n",
            "    4  173   36  256    5   25  100   43  838  112   50  670    2    9\n",
            "   35  480  284    5  150    4  172  112  167    2  336  385   39    4\n",
            "  172 4536 1111   17  546   38   13  447    4  192   50   16    6  147\n",
            " 2025   19   14   22    4 1920 4613  469    4   22   71   87   12   16\n",
            "   43  530   38   76   15   13 1247    4   22   17  515   17   12   16\n",
            "  626   18    2    5   62  386   12    8  316    8  106    5    4 2223\n",
            " 5244   16  480   66 3785   33    4  130   12   16   38  619    5   25\n",
            "  124   51   36  135   48   25 1415   33    6   22   12  215   28   77\n",
            "   52    5   14  407   16   82    2    8    4  107  117 5952   15  256\n",
            "    4    2    7 3766    5  723   36   71   43  530  476   26  400  317\n",
            "   46    7    4    2 1029   13  104   88    4  381   15  297   98   32\n",
            " 2071   56   26  141    6  194 7486   18    4  226   22   21  134  476\n",
            "   26  480    5  144   30 5535   18   51   36   28  224   92   25  104\n",
            "    4  226   65   16   38 1334   88   12   16  283    5   16 4472  113\n",
            "  103   32   15   16 5345   19  178   32    0    0    0    0    0    0\n",
            "    0    0    0    0    0    0    0    0    0    0    0    0    0    0\n",
            "    0    0    0    0    0    0    0    0    0    0    0    0    0    0\n",
            "    0    0    0    0]\n"
          ]
        }
      ]
    },
    {
      "cell_type": "markdown",
      "source": [
        "모델 구성"
      ],
      "metadata": {
        "id": "fPlNGcssVMtC"
      }
    },
    {
      "cell_type": "code",
      "source": [
        "# 입력 크기는 영화 리뷰 데이터셋에 적용된 어휘 사전의 크기입니다(10,000개의 단어)\n",
        "vocab_size = 10000\n",
        "\n",
        "model = keras.Sequential()\n",
        "model.add(keras.layers.Embedding(vocab_size, 16, input_shape = (None, )))\n",
        "model.add(keras.layers.GlobalAveragePooling1D())\n",
        "model.add(keras.layers.Dense(16, activation = 'relu'))\n",
        "model.add(keras.layers.Dense(1, activation = 'sigmoid'))\n",
        "\n",
        "model.summary()"
      ],
      "metadata": {
        "colab": {
          "base_uri": "https://localhost:8080/"
        },
        "id": "KUzdqBTsVLdO",
        "outputId": "e5bea725-62ac-4272-c521-f5944f5189e7"
      },
      "execution_count": 11,
      "outputs": [
        {
          "output_type": "stream",
          "name": "stdout",
          "text": [
            "Model: \"sequential\"\n",
            "_________________________________________________________________\n",
            " Layer (type)                Output Shape              Param #   \n",
            "=================================================================\n",
            " embedding (Embedding)       (None, None, 16)          160000    \n",
            "                                                                 \n",
            " global_average_pooling1d (G  (None, 16)               0         \n",
            " lobalAveragePooling1D)                                          \n",
            "                                                                 \n",
            " dense (Dense)               (None, 16)                272       \n",
            "                                                                 \n",
            " dense_1 (Dense)             (None, 1)                 17        \n",
            "                                                                 \n",
            "=================================================================\n",
            "Total params: 160,289\n",
            "Trainable params: 160,289\n",
            "Non-trainable params: 0\n",
            "_________________________________________________________________\n"
          ]
        }
      ]
    },
    {
      "cell_type": "code",
      "source": [
        "model.compile(optimizer = 'adam', loss = 'binary_crossentropy', metrics = ['accuracy'])"
      ],
      "metadata": {
        "id": "rjjnzbLTVjpo"
      },
      "execution_count": 12,
      "outputs": []
    },
    {
      "cell_type": "code",
      "source": [
        "x_val = train_data[:10000]\n",
        "partial_x_train = train_data[10000:]\n",
        "\n",
        "y_val = train_labels[:10000]\n",
        "partial_y_train = train_labels[10000:]"
      ],
      "metadata": {
        "id": "_KTvc6SjV0ut"
      },
      "execution_count": 13,
      "outputs": []
    },
    {
      "cell_type": "markdown",
      "source": [
        "모델 훈련"
      ],
      "metadata": {
        "id": "JcTExfIcWIYc"
      }
    },
    {
      "cell_type": "code",
      "source": [
        "history = model.fit(partial_x_train, partial_y_train, epochs = 40, batch_size = 512, validation_data= (x_val, y_val), verbose = 1)"
      ],
      "metadata": {
        "colab": {
          "base_uri": "https://localhost:8080/"
        },
        "id": "9xdytaCOWGE4",
        "outputId": "65d05c4d-725e-4b96-b092-e177172333c3"
      },
      "execution_count": 14,
      "outputs": [
        {
          "output_type": "stream",
          "name": "stdout",
          "text": [
            "Epoch 1/40\n",
            "30/30 [==============================] - 2s 25ms/step - loss: 0.6922 - accuracy: 0.5665 - val_loss: 0.6903 - val_accuracy: 0.6941\n",
            "Epoch 2/40\n",
            "30/30 [==============================] - 1s 19ms/step - loss: 0.6868 - accuracy: 0.7253 - val_loss: 0.6824 - val_accuracy: 0.7271\n",
            "Epoch 3/40\n",
            "30/30 [==============================] - 1s 19ms/step - loss: 0.6746 - accuracy: 0.7557 - val_loss: 0.6670 - val_accuracy: 0.7525\n",
            "Epoch 4/40\n",
            "30/30 [==============================] - 1s 19ms/step - loss: 0.6532 - accuracy: 0.7641 - val_loss: 0.6426 - val_accuracy: 0.7484\n",
            "Epoch 5/40\n",
            "30/30 [==============================] - 1s 18ms/step - loss: 0.6219 - accuracy: 0.7901 - val_loss: 0.6097 - val_accuracy: 0.7633\n",
            "Epoch 6/40\n",
            "30/30 [==============================] - 1s 19ms/step - loss: 0.5819 - accuracy: 0.8066 - val_loss: 0.5700 - val_accuracy: 0.7906\n",
            "Epoch 7/40\n",
            "30/30 [==============================] - 1s 18ms/step - loss: 0.5361 - accuracy: 0.8294 - val_loss: 0.5272 - val_accuracy: 0.8191\n",
            "Epoch 8/40\n",
            "30/30 [==============================] - 1s 19ms/step - loss: 0.4894 - accuracy: 0.8449 - val_loss: 0.4861 - val_accuracy: 0.8316\n",
            "Epoch 9/40\n",
            "30/30 [==============================] - 1s 19ms/step - loss: 0.4453 - accuracy: 0.8602 - val_loss: 0.4491 - val_accuracy: 0.8430\n",
            "Epoch 10/40\n",
            "30/30 [==============================] - 1s 19ms/step - loss: 0.4061 - accuracy: 0.8721 - val_loss: 0.4179 - val_accuracy: 0.8498\n",
            "Epoch 11/40\n",
            "30/30 [==============================] - 1s 18ms/step - loss: 0.3727 - accuracy: 0.8798 - val_loss: 0.3919 - val_accuracy: 0.8577\n",
            "Epoch 12/40\n",
            "30/30 [==============================] - 1s 19ms/step - loss: 0.3444 - accuracy: 0.8877 - val_loss: 0.3709 - val_accuracy: 0.8632\n",
            "Epoch 13/40\n",
            "30/30 [==============================] - 1s 19ms/step - loss: 0.3202 - accuracy: 0.8936 - val_loss: 0.3541 - val_accuracy: 0.8670\n",
            "Epoch 14/40\n",
            "30/30 [==============================] - 1s 19ms/step - loss: 0.2996 - accuracy: 0.9009 - val_loss: 0.3401 - val_accuracy: 0.8701\n",
            "Epoch 15/40\n",
            "30/30 [==============================] - 1s 19ms/step - loss: 0.2814 - accuracy: 0.9050 - val_loss: 0.3292 - val_accuracy: 0.8747\n",
            "Epoch 16/40\n",
            "30/30 [==============================] - 1s 18ms/step - loss: 0.2656 - accuracy: 0.9095 - val_loss: 0.3199 - val_accuracy: 0.8763\n",
            "Epoch 17/40\n",
            "30/30 [==============================] - 1s 19ms/step - loss: 0.2517 - accuracy: 0.9142 - val_loss: 0.3121 - val_accuracy: 0.8780\n",
            "Epoch 18/40\n",
            "30/30 [==============================] - 1s 20ms/step - loss: 0.2388 - accuracy: 0.9181 - val_loss: 0.3058 - val_accuracy: 0.8799\n",
            "Epoch 19/40\n",
            "30/30 [==============================] - 1s 19ms/step - loss: 0.2272 - accuracy: 0.9229 - val_loss: 0.3006 - val_accuracy: 0.8805\n",
            "Epoch 20/40\n",
            "30/30 [==============================] - 1s 18ms/step - loss: 0.2162 - accuracy: 0.9267 - val_loss: 0.2961 - val_accuracy: 0.8817\n",
            "Epoch 21/40\n",
            "30/30 [==============================] - 1s 18ms/step - loss: 0.2066 - accuracy: 0.9301 - val_loss: 0.2927 - val_accuracy: 0.8829\n",
            "Epoch 22/40\n",
            "30/30 [==============================] - 1s 18ms/step - loss: 0.1976 - accuracy: 0.9337 - val_loss: 0.2898 - val_accuracy: 0.8830\n",
            "Epoch 23/40\n",
            "30/30 [==============================] - 1s 19ms/step - loss: 0.1889 - accuracy: 0.9373 - val_loss: 0.2881 - val_accuracy: 0.8835\n",
            "Epoch 24/40\n",
            "30/30 [==============================] - 1s 19ms/step - loss: 0.1810 - accuracy: 0.9410 - val_loss: 0.2863 - val_accuracy: 0.8843\n",
            "Epoch 25/40\n",
            "30/30 [==============================] - 1s 19ms/step - loss: 0.1733 - accuracy: 0.9445 - val_loss: 0.2854 - val_accuracy: 0.8836\n",
            "Epoch 26/40\n",
            "30/30 [==============================] - 1s 19ms/step - loss: 0.1663 - accuracy: 0.9475 - val_loss: 0.2844 - val_accuracy: 0.8850\n",
            "Epoch 27/40\n",
            "30/30 [==============================] - 1s 18ms/step - loss: 0.1600 - accuracy: 0.9497 - val_loss: 0.2847 - val_accuracy: 0.8850\n",
            "Epoch 28/40\n",
            "30/30 [==============================] - 1s 19ms/step - loss: 0.1534 - accuracy: 0.9527 - val_loss: 0.2848 - val_accuracy: 0.8855\n",
            "Epoch 29/40\n",
            "30/30 [==============================] - 1s 18ms/step - loss: 0.1477 - accuracy: 0.9535 - val_loss: 0.2854 - val_accuracy: 0.8863\n",
            "Epoch 30/40\n",
            "30/30 [==============================] - 1s 19ms/step - loss: 0.1419 - accuracy: 0.9575 - val_loss: 0.2856 - val_accuracy: 0.8863\n",
            "Epoch 31/40\n",
            "30/30 [==============================] - 1s 19ms/step - loss: 0.1365 - accuracy: 0.9597 - val_loss: 0.2869 - val_accuracy: 0.8860\n",
            "Epoch 32/40\n",
            "30/30 [==============================] - 1s 19ms/step - loss: 0.1312 - accuracy: 0.9623 - val_loss: 0.2879 - val_accuracy: 0.8859\n",
            "Epoch 33/40\n",
            "30/30 [==============================] - 1s 20ms/step - loss: 0.1263 - accuracy: 0.9635 - val_loss: 0.2897 - val_accuracy: 0.8860\n",
            "Epoch 34/40\n",
            "30/30 [==============================] - 1s 19ms/step - loss: 0.1215 - accuracy: 0.9661 - val_loss: 0.2913 - val_accuracy: 0.8868\n",
            "Epoch 35/40\n",
            "30/30 [==============================] - 1s 19ms/step - loss: 0.1170 - accuracy: 0.9682 - val_loss: 0.2933 - val_accuracy: 0.8858\n",
            "Epoch 36/40\n",
            "30/30 [==============================] - 1s 19ms/step - loss: 0.1128 - accuracy: 0.9696 - val_loss: 0.2957 - val_accuracy: 0.8849\n",
            "Epoch 37/40\n",
            "30/30 [==============================] - 1s 19ms/step - loss: 0.1088 - accuracy: 0.9713 - val_loss: 0.2985 - val_accuracy: 0.8844\n",
            "Epoch 38/40\n",
            "30/30 [==============================] - 1s 18ms/step - loss: 0.1053 - accuracy: 0.9717 - val_loss: 0.3019 - val_accuracy: 0.8835\n",
            "Epoch 39/40\n",
            "30/30 [==============================] - 1s 19ms/step - loss: 0.1014 - accuracy: 0.9736 - val_loss: 0.3032 - val_accuracy: 0.8839\n",
            "Epoch 40/40\n",
            "30/30 [==============================] - 1s 19ms/step - loss: 0.0976 - accuracy: 0.9745 - val_loss: 0.3067 - val_accuracy: 0.8833\n"
          ]
        }
      ]
    },
    {
      "cell_type": "code",
      "source": [
        "results = model.evaluate(test_data, test_labels, verbose = 2)\n",
        "print(results)"
      ],
      "metadata": {
        "colab": {
          "base_uri": "https://localhost:8080/"
        },
        "id": "Ic7KmDF0WTMx",
        "outputId": "a744f50e-28df-4484-e4a0-457a8deeed72"
      },
      "execution_count": 15,
      "outputs": [
        {
          "output_type": "stream",
          "name": "stdout",
          "text": [
            "782/782 - 1s - loss: 0.3263 - accuracy: 0.8730 - 1s/epoch - 2ms/step\n",
            "[0.32633283734321594, 0.8729599714279175]\n"
          ]
        }
      ]
    },
    {
      "cell_type": "code",
      "source": [
        "history_dict = history.history\n",
        "history_dict.keys()"
      ],
      "metadata": {
        "colab": {
          "base_uri": "https://localhost:8080/"
        },
        "id": "t86Q-5WtWfOQ",
        "outputId": "7f62b8b4-49b1-4e85-8b3e-022acb9ced2e"
      },
      "execution_count": 17,
      "outputs": [
        {
          "output_type": "execute_result",
          "data": {
            "text/plain": [
              "dict_keys(['loss', 'accuracy', 'val_loss', 'val_accuracy'])"
            ]
          },
          "metadata": {},
          "execution_count": 17
        }
      ]
    },
    {
      "cell_type": "code",
      "source": [
        "import matplotlib.pyplot as plt\n",
        "\n",
        "acc = history_dict['accuracy']\n",
        "val_acc = history_dict['val_accuracy']\n",
        "loss = history_dict['loss']\n",
        "val_loss = history_dict['val_loss']\n",
        "\n",
        "epochs = range(1, len(acc) + 1)\n",
        "\n",
        "plt.plot(epochs, loss, 'bo', label = 'Training loss')\n",
        "plt.plot(epochs, val_loss, 'b', label = 'Validation loss')\n",
        "plt.title('Training and validation loss')\n",
        "plt.xlabel('Epochs')\n",
        "plt.ylabel('Loss')\n",
        "plt.legend()\n",
        "\n",
        "plt.show()"
      ],
      "metadata": {
        "colab": {
          "base_uri": "https://localhost:8080/",
          "height": 295
        },
        "id": "Y4M4eEiDWoZv",
        "outputId": "fff5a0a6-60a4-4cf4-d616-2b584ddaf752"
      },
      "execution_count": 18,
      "outputs": [
        {
          "output_type": "display_data",
          "data": {
            "text/plain": [
              "<Figure size 432x288 with 1 Axes>"
            ],
            "image/png": "[encoded data removed]"
          },
          "metadata": {
            "needs_background": "light"
          }
        }
      ]
    },
    {
      "cell_type": "code",
      "source": [
        "plt.clf() # 그림을 초기화\n",
        "\n",
        "plt.plot(epochs, acc, 'bo', label = 'Training acc')\n",
        "plt.plot(epochs, val_acc, 'b', label = 'Validation acc')\n",
        "plt.title('Training and validation acc')\n",
        "plt.xlabel('Epochs')\n",
        "plt.ylabel('Accuracy')\n",
        "plt.legend()\n",
        "\n",
        "plt.show()"
      ],
      "metadata": {
        "colab": {
          "base_uri": "https://localhost:8080/",
          "height": 295
        },
        "id": "_dMGjOPaXWos",
        "outputId": "7eeb3777-c64c-465d-e3f4-02cbae3fde08"
      },
      "execution_count": 19,
      "outputs": [
        {
          "output_type": "display_data",
          "data": {
            "text/plain": [
              "<Figure size 432x288 with 1 Axes>"
            ],
            "image/png": "[encoded data removed]"
          },
          "metadata": {
            "needs_background": "light"
          }
        }
      ]
    },
    {
      "cell_type": "code",
      "source": [
        ""
      ],
      "metadata": {
        "id": "XWkE-BB-XedX"
      },
      "execution_count": null,
      "outputs": []
    }
  ]
}