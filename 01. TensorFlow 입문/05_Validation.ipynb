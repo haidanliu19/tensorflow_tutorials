{
  "nbformat": 4,
  "nbformat_minor": 0,
  "metadata": {
    "colab": {
      "name": "05. Validation.ipynb",
      "provenance": [],
      "collapsed_sections": []
    },
    "kernelspec": {
      "name": "python3",
      "display_name": "Python 3"
    },
    "language_info": {
      "name": "python"
    }
  },
  "cells": [
    {
      "cell_type": "markdown",
      "source": [
        "[퇴근후 텐서플로] TensorFlow 입문"
      ],
      "metadata": {
        "id": "A2gchHDDN8dE"
      }
    },
    {
      "cell_type": "code",
      "metadata": {
        "id": "DBc425SC_hpU"
      },
      "source": [
        "import tensorflow as tf\n",
        "from tensorflow.keras.models import Sequential\n",
        "from tensorflow.keras.layers import Dense,Flatten"
      ],
      "execution_count": 1,
      "outputs": []
    },
    {
      "cell_type": "code",
      "source": [
        "mnist = tf.keras.datasets.mnist\n",
        "(X,y),(x_test,y_test) = mnist.load_data()"
      ],
      "metadata": {
        "id": "mzvX6-NLQqsj"
      },
      "execution_count": 2,
      "outputs": []
    },
    {
      "cell_type": "code",
      "metadata": {
        "id": "q1hEUtjGAxIB"
      },
      "source": [
        "model = Sequential([\n",
        "            Flatten(input_shape=(28,28)),\n",
        "            Dense(units=64, activation='relu' ),\n",
        "            Dense(units=10, activation='softmax')\n",
        "])\n",
        "# Flatten 쫙 펼치는 작업을 한다"
      ],
      "execution_count": 3,
      "outputs": []
    },
    {
      "cell_type": "code",
      "metadata": {
        "colab": {
          "base_uri": "https://localhost:8080/"
        },
        "id": "fzk9p-UABAkL",
        "outputId": "5e85a2bf-b484-43c3-c4b0-447a8e297e94"
      },
      "source": [
        "model.summary()"
      ],
      "execution_count": 4,
      "outputs": [
        {
          "output_type": "stream",
          "name": "stdout",
          "text": [
            "Model: \"sequential\"\n",
            "_________________________________________________________________\n",
            " Layer (type)                Output Shape              Param #   \n",
            "=================================================================\n",
            " flatten (Flatten)           (None, 784)               0         \n",
            "                                                                 \n",
            " dense (Dense)               (None, 64)                50240     \n",
            "                                                                 \n",
            " dense_1 (Dense)             (None, 10)                650       \n",
            "                                                                 \n",
            "=================================================================\n",
            "Total params: 50,890\n",
            "Trainable params: 50,890\n",
            "Non-trainable params: 0\n",
            "_________________________________________________________________\n"
          ]
        }
      ]
    },
    {
      "cell_type": "code",
      "source": [
        "model.compile(optimizer ='adam',\n",
        "              loss='sparse_categorical_crossentropy',\n",
        "              metrics = ['accuracy'])"
      ],
      "metadata": {
        "id": "iMmrdUVVPUiP"
      },
      "execution_count": 5,
      "outputs": []
    },
    {
      "cell_type": "markdown",
      "source": [
        "# validation split"
      ],
      "metadata": {
        "id": "KojCn78cSx8L"
      }
    },
    {
      "cell_type": "code",
      "source": [
        "# 1.\n",
        "model.fit(X,y, validation_split = 0.2, epochs = 5)"
      ],
      "metadata": {
        "colab": {
          "base_uri": "https://localhost:8080/"
        },
        "id": "qUS6w_geTQfj",
        "outputId": "b9e37e1a-89cd-41d5-b745-a9c09a4a2fc8"
      },
      "execution_count": 6,
      "outputs": [
        {
          "output_type": "stream",
          "name": "stdout",
          "text": [
            "Epoch 1/5\n",
            "1500/1500 [==============================] - 7s 4ms/step - loss: 2.3661 - accuracy: 0.7731 - val_loss: 0.6973 - val_accuracy: 0.8230\n",
            "Epoch 2/5\n",
            "1500/1500 [==============================] - 6s 4ms/step - loss: 0.5604 - accuracy: 0.8603 - val_loss: 0.5099 - val_accuracy: 0.8820\n",
            "Epoch 3/5\n",
            "1500/1500 [==============================] - 7s 4ms/step - loss: 0.4191 - accuracy: 0.8951 - val_loss: 0.3912 - val_accuracy: 0.9097\n",
            "Epoch 4/5\n",
            "1500/1500 [==============================] - 6s 4ms/step - loss: 0.3161 - accuracy: 0.9158 - val_loss: 0.3162 - val_accuracy: 0.9199\n",
            "Epoch 5/5\n",
            "1500/1500 [==============================] - 3s 2ms/step - loss: 0.2775 - accuracy: 0.9258 - val_loss: 0.2562 - val_accuracy: 0.9361\n"
          ]
        },
        {
          "output_type": "execute_result",
          "data": {
            "text/plain": [
              "<keras.callbacks.History at 0x7f4bffebf850>"
            ]
          },
          "metadata": {},
          "execution_count": 6
        }
      ]
    },
    {
      "cell_type": "code",
      "source": [
        "# 2. \n",
        "from sklearn.model_selection import train_test_split\n",
        "x_train,x_val, y_train,y_val = train_test_split(X,y, test_size=0.2)\n",
        "history = model.fit(X,y, \n",
        "                    validation_data =(x_val,y_val), \n",
        "                    epochs = 5,\n",
        "                    batch_size = 64)"
      ],
      "metadata": {
        "colab": {
          "base_uri": "https://localhost:8080/"
        },
        "id": "6c-CipvyTB_x",
        "outputId": "9881402b-e433-44b9-e30e-37f6d9d112a9"
      },
      "execution_count": 7,
      "outputs": [
        {
          "output_type": "stream",
          "name": "stdout",
          "text": [
            "Epoch 1/5\n",
            "938/938 [==============================] - 3s 3ms/step - loss: 0.2067 - accuracy: 0.9434 - val_loss: 0.1854 - val_accuracy: 0.9447\n",
            "Epoch 2/5\n",
            "938/938 [==============================] - 3s 3ms/step - loss: 0.1858 - accuracy: 0.9483 - val_loss: 0.1786 - val_accuracy: 0.9467\n",
            "Epoch 3/5\n",
            "938/938 [==============================] - 3s 3ms/step - loss: 0.1806 - accuracy: 0.9502 - val_loss: 0.1608 - val_accuracy: 0.9524\n",
            "Epoch 4/5\n",
            "938/938 [==============================] - 3s 3ms/step - loss: 0.1786 - accuracy: 0.9511 - val_loss: 0.1744 - val_accuracy: 0.9495\n",
            "Epoch 5/5\n",
            "938/938 [==============================] - 3s 3ms/step - loss: 0.1696 - accuracy: 0.9527 - val_loss: 0.1445 - val_accuracy: 0.9584\n"
          ]
        }
      ]
    }
  ]
}