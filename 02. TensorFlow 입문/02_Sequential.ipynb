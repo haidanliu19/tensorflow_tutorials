{
  "nbformat": 4,
  "nbformat_minor": 0,
  "metadata": {
    "colab": {
      "name": "02. Sequential.ipynb",
      "provenance": [],
      "collapsed_sections": []
    },
    "kernelspec": {
      "name": "python3",
      "display_name": "Python 3"
    },
    "language_info": {
      "name": "python"
    }
  },
  "cells": [
    {
      "cell_type": "markdown",
      "source": [
        "[퇴근후 텐서플로] TensorFlow 입문"
      ],
      "metadata": {
        "id": "A2gchHDDN8dE"
      }
    },
    {
      "cell_type": "code",
      "metadata": {
        "id": "DBc425SC_hpU"
      },
      "source": [
        "from tensorflow.keras.models import Sequential\n",
        "from tensorflow.keras.layers import Dense"
      ],
      "execution_count": null,
      "outputs": []
    },
    {
      "cell_type": "markdown",
      "metadata": {
        "id": "wRrjF3jkATuv"
      },
      "source": [
        "# 방법 1"
      ]
    },
    {
      "cell_type": "code",
      "metadata": {
        "id": "u2mVPcIF_uYJ"
      },
      "source": [
        "model = Sequential([\n",
        "                    Dense(units=128, activation='relu'),\n",
        "                    Dense(units=10, activation='softmax')\n",
        "])"
      ],
      "execution_count": null,
      "outputs": []
    },
    {
      "cell_type": "markdown",
      "metadata": {
        "id": "5wUxpu64AWUv"
      },
      "source": [
        "# 방법 2"
      ]
    },
    {
      "cell_type": "code",
      "metadata": {
        "id": "xjOv7qTAABEa"
      },
      "source": [
        "model = Sequential()\n",
        "model.add(Dense(units=128, activation='relu'))\n",
        "model.add(Dense(units=10, activation='softmax'))"
      ],
      "execution_count": null,
      "outputs": []
    },
    {
      "cell_type": "markdown",
      "metadata": {
        "id": "lh3fSdQvAkMp"
      },
      "source": [
        "# 입력 추가"
      ]
    },
    {
      "cell_type": "code",
      "metadata": {
        "id": "pYXFbEV8Al80"
      },
      "source": [
        "model = Sequential([\n",
        "                    Dense(units=128, activation='relu' ,input_shape=(784,)),\n",
        "                    Dense(units=10, activation='softmax')\n",
        "])"
      ],
      "execution_count": null,
      "outputs": []
    },
    {
      "cell_type": "markdown",
      "metadata": {
        "id": "8qdeYw3KAqJe"
      },
      "source": [
        "# Flatten 추가"
      ]
    },
    {
      "cell_type": "code",
      "metadata": {
        "id": "NxuGQZq3AsZa"
      },
      "source": [
        "from tensorflow.keras.layers import Flatten"
      ],
      "execution_count": null,
      "outputs": []
    },
    {
      "cell_type": "code",
      "metadata": {
        "id": "q1hEUtjGAxIB"
      },
      "source": [
        "model = Sequential([\n",
        "            Flatten(input_shape=(28,28)),\n",
        "            Dense(units=128, activation='relu' ),\n",
        "            Dense(units=10, activation='softmax')\n",
        "])\n",
        "# Flatten 쫙 펼치는 작업을 한다"
      ],
      "execution_count": null,
      "outputs": []
    },
    {
      "cell_type": "code",
      "metadata": {
        "colab": {
          "base_uri": "https://localhost:8080/"
        },
        "id": "fzk9p-UABAkL",
        "outputId": "740c7b1b-ec24-4a37-d966-99117468e738"
      },
      "source": [
        "model.summary()"
      ],
      "execution_count": null,
      "outputs": [
        {
          "output_type": "stream",
          "text": [
            "Model: \"sequential_6\"\n",
            "_________________________________________________________________\n",
            "Layer (type)                 Output Shape              Param #   \n",
            "=================================================================\n",
            "flatten (Flatten)            (None, 784)               0         \n",
            "_________________________________________________________________\n",
            "dense_12 (Dense)             (None, 128)               100480    \n",
            "_________________________________________________________________\n",
            "dense_13 (Dense)             (None, 10)                1290      \n",
            "=================================================================\n",
            "Total params: 101,770\n",
            "Trainable params: 101,770\n",
            "Non-trainable params: 0\n",
            "_________________________________________________________________\n"
          ],
          "name": "stdout"
        }
      ]
    },
    {
      "cell_type": "markdown",
      "metadata": {
        "id": "LZjFaRqWBGMk"
      },
      "source": [
        "# 레이어에 이름 붙이기"
      ]
    },
    {
      "cell_type": "code",
      "metadata": {
        "colab": {
          "base_uri": "https://localhost:8080/"
        },
        "id": "bDgMJ979BH7X",
        "outputId": "6db167f8-335c-453e-d659-22740bb5705f"
      },
      "source": [
        "model = Sequential([\n",
        "            Flatten(input_shape=(28,28) ,name=\"flatten\"),\n",
        "            Dense(units=128, activation='relu', name=\"dense_1\" ),\n",
        "            Dense(units=10, activation='softmax', name=\"dense_2\" )\n",
        "])\n",
        "model.summary()"
      ],
      "execution_count": null,
      "outputs": [
        {
          "output_type": "stream",
          "text": [
            "Model: \"sequential_8\"\n",
            "_________________________________________________________________\n",
            "Layer (type)                 Output Shape              Param #   \n",
            "=================================================================\n",
            "flatten (Flatten)            (None, 784)               0         \n",
            "_________________________________________________________________\n",
            "dense_1 (Dense)              (None, 128)               100480    \n",
            "_________________________________________________________________\n",
            "dense_2 (Dense)              (None, 10)                1290      \n",
            "=================================================================\n",
            "Total params: 101,770\n",
            "Trainable params: 101,770\n",
            "Non-trainable params: 0\n",
            "_________________________________________________________________\n"
          ],
          "name": "stdout"
        }
      ]
    }
  ]
}