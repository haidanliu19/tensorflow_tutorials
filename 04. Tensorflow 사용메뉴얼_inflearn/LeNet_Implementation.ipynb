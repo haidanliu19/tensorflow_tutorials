{
  "nbformat": 4,
  "nbformat_minor": 0,
  "metadata": {
    "colab": {
      "name": "LeNet Implementation.ipynb",
      "provenance": [],
      "collapsed_sections": []
    },
    "kernelspec": {
      "name": "python3",
      "display_name": "Python 3"
    },
    "language_info": {
      "name": "python"
    },
    "accelerator": "GPU"
  },
  "cells": [
    {
      "cell_type": "code",
      "execution_count": 22,
      "metadata": {
        "id": "S6nPU7k8el6b"
      },
      "outputs": [],
      "source": [
        "import numpy as np\n",
        "import matplotlib.pyplot as plt\n",
        "from termcolor import colored\n",
        "\n",
        "import tensorflow as tf\n",
        "import tensorflow_datasets as tfds\n",
        "\n",
        "from tensorflow.keras.models import Sequential, Model\n",
        "from tensorflow.keras.layers import Dense,Conv2D, AveragePooling2D,Flatten\n",
        "from tensorflow.keras.layers import  ZeroPadding2D\n",
        "from tensorflow.keras.losses import SparseCategoricalCrossentropy\n",
        "from tensorflow.keras.optimizers import SGD,Adam\n",
        "\n",
        "from tensorflow.keras.metrics import Mean,SparseCategoricalAccuracy"
      ]
    },
    {
      "cell_type": "code",
      "source": [
        "LeNet1 = Sequential()\n",
        "LeNet1.add(Conv2D(filters = 4, kernel_size= 5, padding='valid',strides= 1, activation = 'tanh'))\n",
        "LeNet1.add(AveragePooling2D(pool_size=2, strides = 2))\n",
        "LeNet1.add(Conv2D(filters = 12, kernel_size= 5,  \n",
        "                            activation = 'tanh',padding='valid',strides= 1))\n",
        "LeNet1.add(AveragePooling2D(pool_size=2, strides = 2))\n",
        "LeNet1.add(Flatten())\n",
        "LeNet1.add(Dense(units = 10, activation ='softmax'))\n",
        "\n",
        "LeNet1.build(input_shape=(None, 28,28,1))\n",
        "LeNet1.summary()"
      ],
      "metadata": {
        "colab": {
          "base_uri": "https://localhost:8080/"
        },
        "id": "dGOqntyO-von",
        "outputId": "cd0ea535-7219-4450-e0a3-8a05431d068c"
      },
      "execution_count": 21,
      "outputs": [
        {
          "output_type": "stream",
          "name": "stdout",
          "text": [
            "Model: \"sequential_5\"\n",
            "_________________________________________________________________\n",
            " Layer (type)                Output Shape              Param #   \n",
            "=================================================================\n",
            " conv2d_12 (Conv2D)          (None, 24, 24, 4)         104       \n",
            "                                                                 \n",
            " average_pooling2d_7 (Averag  (None, 12, 12, 4)        0         \n",
            " ePooling2D)                                                     \n",
            "                                                                 \n",
            " conv2d_13 (Conv2D)          (None, 8, 8, 12)          1212      \n",
            "                                                                 \n",
            " average_pooling2d_8 (Averag  (None, 4, 4, 12)         0         \n",
            " ePooling2D)                                                     \n",
            "                                                                 \n",
            " flatten_2 (Flatten)         (None, 192)               0         \n",
            "                                                                 \n",
            " dense_1 (Dense)             (None, 10)                1930      \n",
            "                                                                 \n",
            "=================================================================\n",
            "Total params: 3,246\n",
            "Trainable params: 3,246\n",
            "Non-trainable params: 0\n",
            "_________________________________________________________________\n"
          ]
        }
      ]
    },
    {
      "cell_type": "code",
      "source": [
        "LeNet4 = Sequential()\n",
        "LeNet4.add(ZeroPadding2D(padding = 2))\n",
        "LeNet4.add(Conv2D(filters = 4, kernel_size= 5, padding='valid',strides= 1, activation = 'tanh'))\n",
        "LeNet4.add(AveragePooling2D(pool_size=2, strides = 2))\n",
        "LeNet4.add(Conv2D(filters = 16, kernel_size= 5,  \n",
        "                            activation = 'tanh',padding='valid',strides= 1))\n",
        "LeNet4.add(AveragePooling2D(pool_size=2, strides = 2))\n",
        "LeNet4.add(Flatten())\n",
        "LeNet4.add(Dense(units = 120, activation ='tanh'))\n",
        "LeNet4.add(Dense(units = 10, activation ='softmax'))\n",
        "\n",
        "LeNet4.build(input_shape=(None, 28,28,1))\n",
        "LeNet4.summary()"
      ],
      "metadata": {
        "colab": {
          "base_uri": "https://localhost:8080/"
        },
        "id": "6IXuTpu-MBOD",
        "outputId": "13503e45-4bf2-4500-ffc4-4ddfc2325061"
      },
      "execution_count": 23,
      "outputs": [
        {
          "output_type": "stream",
          "name": "stdout",
          "text": [
            "Model: \"sequential_6\"\n",
            "_________________________________________________________________\n",
            " Layer (type)                Output Shape              Param #   \n",
            "=================================================================\n",
            " zero_padding2d (ZeroPadding  (None, 32, 32, 1)        0         \n",
            " 2D)                                                             \n",
            "                                                                 \n",
            " conv2d_14 (Conv2D)          (None, 28, 28, 4)         104       \n",
            "                                                                 \n",
            " average_pooling2d_9 (Averag  (None, 14, 14, 4)        0         \n",
            " ePooling2D)                                                     \n",
            "                                                                 \n",
            " conv2d_15 (Conv2D)          (None, 10, 10, 16)        1616      \n",
            "                                                                 \n",
            " average_pooling2d_10 (Avera  (None, 5, 5, 16)         0         \n",
            " gePooling2D)                                                    \n",
            "                                                                 \n",
            " flatten_3 (Flatten)         (None, 400)               0         \n",
            "                                                                 \n",
            " dense_2 (Dense)             (None, 120)               48120     \n",
            "                                                                 \n",
            " dense_3 (Dense)             (None, 10)                1210      \n",
            "                                                                 \n",
            "=================================================================\n",
            "Total params: 51,050\n",
            "Trainable params: 51,050\n",
            "Non-trainable params: 0\n",
            "_________________________________________________________________\n"
          ]
        }
      ]
    },
    {
      "cell_type": "code",
      "source": [
        "LeNet5 = Sequential()\n",
        "LeNet5.add(ZeroPadding2D(padding = 2))\n",
        "LeNet5.add(Conv2D(filters = 6, kernel_size= 5, padding='valid',strides= 1, activation = 'tanh'))\n",
        "LeNet5.add(AveragePooling2D(pool_size=2, strides = 2))\n",
        "LeNet5.add(Conv2D(filters = 16, kernel_size= 5,  \n",
        "                            activation = 'tanh',padding='valid',strides= 1))\n",
        "LeNet5.add(AveragePooling2D(pool_size=2, strides = 2))\n",
        "LeNet5.add(Flatten())\n",
        "LeNet5.add(Dense(units = 140, activation ='tanh'))\n",
        "LeNet5.add(Dense(units = 84, activation ='tanh'))\n",
        "LeNet5.add(Dense(units = 10, activation ='softmax'))\n",
        "\n",
        "LeNet5.build(input_shape=(None, 28,28,1))\n",
        "LeNet5.summary()"
      ],
      "metadata": {
        "colab": {
          "base_uri": "https://localhost:8080/"
        },
        "id": "drRw5yuhMEpN",
        "outputId": "bfd318bc-6b4c-4f92-f1c0-b2eaec3ce2ed"
      },
      "execution_count": 24,
      "outputs": [
        {
          "output_type": "stream",
          "name": "stdout",
          "text": [
            "Model: \"sequential_7\"\n",
            "_________________________________________________________________\n",
            " Layer (type)                Output Shape              Param #   \n",
            "=================================================================\n",
            " zero_padding2d_1 (ZeroPaddi  (None, 32, 32, 1)        0         \n",
            " ng2D)                                                           \n",
            "                                                                 \n",
            " conv2d_16 (Conv2D)          (None, 28, 28, 6)         156       \n",
            "                                                                 \n",
            " average_pooling2d_11 (Avera  (None, 14, 14, 6)        0         \n",
            " gePooling2D)                                                    \n",
            "                                                                 \n",
            " conv2d_17 (Conv2D)          (None, 10, 10, 16)        2416      \n",
            "                                                                 \n",
            " average_pooling2d_12 (Avera  (None, 5, 5, 16)         0         \n",
            " gePooling2D)                                                    \n",
            "                                                                 \n",
            " flatten_4 (Flatten)         (None, 400)               0         \n",
            "                                                                 \n",
            " dense_4 (Dense)             (None, 140)               56140     \n",
            "                                                                 \n",
            " dense_5 (Dense)             (None, 84)                11844     \n",
            "                                                                 \n",
            " dense_6 (Dense)             (None, 10)                850       \n",
            "                                                                 \n",
            "=================================================================\n",
            "Total params: 71,406\n",
            "Trainable params: 71,406\n",
            "Non-trainable params: 0\n",
            "_________________________________________________________________\n"
          ]
        }
      ]
    }
  ]
}